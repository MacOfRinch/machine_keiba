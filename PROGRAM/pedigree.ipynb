{
 "cells": [
  {
   "cell_type": "code",
   "execution_count": 4,
   "id": "f5dc3789",
   "metadata": {},
   "outputs": [
    {
     "name": "stdout",
     "output_type": "stream",
     "text": [
      "                                              peds_0  \\\n",
      "2020102781  ロードカナロア 2008 鹿毛 [血統][産駒] Mr. Prospector系   \n",
      "\n",
      "                                         peds_1                     peds_2  \\\n",
      "2020102781  エアルーティーン 2012 栗毛 [血統][産駒] FNo.[4-r]  キングカメハメハ 2001 鹿毛 [血統][産駒]   \n",
      "\n",
      "                               peds_3                                 peds_4  \\\n",
      "2020102781  レディブラッサム 1996 鹿毛 [血統][産駒]  ハービンジャー Harbinger(英) 2006 鹿毛 [血統][産駒]   \n",
      "\n",
      "                             peds_5                          peds_6  \\\n",
      "2020102781  エアマグダラ 2003 栗毛 [血統][産駒]  Kingmambo (米) 1990 鹿毛 [血統][産駒]   \n",
      "\n",
      "                                        peds_7  \\\n",
      "2020102781  マンファス Manfath(愛) 1991 黒鹿毛 [血統][産駒]   \n",
      "\n",
      "                                     peds_8  \\\n",
      "2020102781  Storm Cat (米) 1983 黒鹿毛 [血統][産駒]   \n",
      "\n",
      "                                              peds_9  ...         peds_52  \\\n",
      "2020102781  サラトガデュー Saratoga Dew(米) 1989 鹿毛 [血統][産駒]  ...  Shareef Dancer   \n",
      "\n",
      "              peds_53         peds_54 peds_55        peds_56          peds_57  \\\n",
      "2020102781  Sauceboat  Hail to Reason  Cosmah  Understanding  Mountain Flower   \n",
      "\n",
      "                    peds_58        peds_59         peds_60       peds_61  \n",
      "2020102781  Northern Dancer  Lady Victoria  Well Decorated  Hidden Trail  \n",
      "\n",
      "[1 rows x 62 columns]\n"
     ]
    }
   ],
   "source": [
    "import requests\n",
    "import pandas as pd\n",
    "\n",
    "class Pedigree:\n",
    "    @staticmethod\n",
    "    def scrape(horse_id_list):\n",
    "        peds = {}\n",
    "        for horse_id in horse_id_list:\n",
    "            url = 'https://db.netkeiba.com/horse/ped/' + horse_id + '/'\n",
    "            response = requests.get(url)\n",
    "            response.encoding = 'EUC-JP'\n",
    "            html = response.text\n",
    "            \n",
    "            df = pd.read_html(html)[0]\n",
    "            generations = {}\n",
    "            for i in reversed(range(5)):\n",
    "                generations[i] = df[i]\n",
    "                df.drop([i], axis=1, inplace=True)\n",
    "                df = df.drop_duplicates()\n",
    "\n",
    "            ped = pd.concat([generations[i] for i in range(5)]).rename(horse_id)\n",
    "\n",
    "            peds[horse_id] = ped.reset_index(drop=True)\n",
    "\n",
    "        peds_df = pd.concat([peds[key] for key in peds], axis=1).T.add_prefix('peds_')\n",
    "        return peds_df\n",
    "\n"
   ]
  },
  {
   "cell_type": "code",
   "execution_count": null,
   "id": "84784d53",
   "metadata": {},
   "outputs": [],
   "source": []
  }
 ],
 "metadata": {
  "kernelspec": {
   "display_name": "Python 3 (ipykernel)",
   "language": "python",
   "name": "python3"
  },
  "language_info": {
   "codemirror_mode": {
    "name": "ipython",
    "version": 3
   },
   "file_extension": ".py",
   "mimetype": "text/x-python",
   "name": "python",
   "nbconvert_exporter": "python",
   "pygments_lexer": "ipython3",
   "version": "3.9.12"
  }
 },
 "nbformat": 4,
 "nbformat_minor": 5
}
