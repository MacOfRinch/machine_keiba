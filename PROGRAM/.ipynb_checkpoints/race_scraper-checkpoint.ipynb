{
 "cells": [
  {
   "cell_type": "code",
   "execution_count": 21,
   "id": "d646aa8f",
   "metadata": {
    "scrolled": false
   },
   "outputs": [
    {
     "name": "stderr",
     "output_type": "stream",
     "text": [
      "                                                                                \r"
     ]
    }
   ],
   "source": [
    "from tqdm import tqdm\n",
    "import time\n",
    "import re\n",
    "import requests\n",
    "import pandas as pd\n",
    "from bs4 import BeautifulSoup\n",
    "import random\n",
    "\n",
    "class RaceResult:\n",
    "    @staticmethod\n",
    "    def scrape(race_ids):\n",
    "        \"\"\"\n",
    "        レース結果のスクレイピングを行うよ。\n",
    "    \n",
    "        入力input:\n",
    "        レースIDのリスト\n",
    "        race_ids : list\n",
    "    \n",
    "        出力output:\n",
    "        結果のデータフレーム\n",
    "        race_results : pd.DataFrame\n",
    "        \"\"\"\n",
    "        # 辞書型で出力を定義しておく\n",
    "        race_results = {}\n",
    "        for race_id in tqdm(race_ids, leave=False):\n",
    "            try:\n",
    "                url = \"https://db.netkeiba.com/race/\" + race_id + \"/\"\n",
    "\n",
    "                response = requests.get(url)\n",
    "                response.encoding = \"EUC-JP\"\n",
    "\n",
    "                df = pd.read_html(response.text)[0]\n",
    "                # 半角スペースがあったら除去するよ〜\n",
    "                df = df.rename(columns=lambda x: x.replace(' ', ''))\n",
    "                # 正規表現で天気とレース情報をスクレイピングするよ〜\n",
    "                soup = BeautifulSoup(response.text, \"html.parser\")\n",
    "                text = soup.select(\"div.data_intro p\")[0].text\n",
    "                words = re.findall(r'\\w+', text)\n",
    "                for info in words:\n",
    "                    if 'm' in info:\n",
    "                        df['コース長'] = [int(''.join(re.findall(r'\\d+', info)))] * len(df)\n",
    "                    if info in ['曇', '晴', '雨', '小雨', '小雪', '雪', ]:\n",
    "                        df['天気'] = [info] * len(df)\n",
    "                    if info in ['芝', 'ダート', '障']:\n",
    "                        df['レース場'] = [info] * len(df)\n",
    "                    if info in ['良', '稍重', '重', '不良']:\n",
    "                        df['場の状態'] = [info] * len(df)\n",
    "\n",
    "                # 今度はお馬さんidと騎手さんid、調教師idを取得するよ〜\n",
    "                horse_id_list = []\n",
    "                jockey_id_list = []\n",
    "                trainer_id_list = []\n",
    "\n",
    "                horse_link_list = soup.find('table', attrs={'summary': 'レース結果'}).find_all('a', attrs={'href': re.compile(r'^/horse/')})\n",
    "                for horse_link in horse_link_list:\n",
    "                    horse_id = int(''.join(re.findall(r'\\d+', horse_link['href'])))\n",
    "                    horse_id_list.append(horse_id)\n",
    "\n",
    "                jockey_link_list = soup.find('table', attrs={'summary': 'レース結果'}).find_all('a', attrs={'href': re.compile(r'^/jockey/result/recent/')})\n",
    "                for jockey_link in jockey_link_list:\n",
    "                    jockey_id = int(''.join(re.findall(r'\\d+', jockey_link['href'])))\n",
    "                    jockey_id_list.append(jockey_id)\n",
    "\n",
    "                trainer_link_list = soup.find('table', attrs={'summary': 'レース結果'}).find_all('a', attrs={'href': re.compile(r'^/trainer/result/recent/')})\n",
    "                for trainer_link in trainer_link_list:\n",
    "                    trainer_id = int(''.join(re.findall(r'\\d+', trainer_link['href'])))\n",
    "                    trainer_id_list.append(trainer_id)\n",
    "\n",
    "                df['馬id'] = horse_id_list\n",
    "                df['騎手id'] = jockey_id_list\n",
    "                df['調教師id'] = trainer_id_list\n",
    "\n",
    "                df.index = [race_id] * len(df)\n",
    "                race_results[race_id] = df\n",
    "                \n",
    "                time.sleep(random.uniform(1, 3))\n",
    "            \n",
    "            except IndexError:\n",
    "                continue\n",
    "            except AttributeError:\n",
    "                continue\n",
    "            except Exception as e:\n",
    "                print(e)\n",
    "                break\n",
    "            except:\n",
    "                break\n",
    "            \n",
    "        race_results_df = pd.concat([race_results[key] for key in race_results])\n",
    "            \n",
    "        return race_results_df\n",
    "\n",
    "year = 2020\n",
    "\n",
    "race_id_list = []\n",
    "for place in range(1, 11, 1):\n",
    "    for kai in range(1, 7, 1):\n",
    "        for day in range(1, 13, 1):\n",
    "            for r in range(1, 13, 1):\n",
    "                race_id = ’馬5年分s期待値tr(year) + str(place).zfill(2) + str(kai).zfill(2) + str(day).zfill(2) + str(r).zfill(2)\n",
    "                race_id_list.append(race_id)\n",
    "\n",
    "race_results = RaceResult.scrape(race_id_list)\n",
    "race_results.to_pickle(f'../DATA/{year}_race_result.pkl')\n"
   ]
  },
  {
   "cell_type": "code",
   "execution_count": null,
   "id": "e6955a70",
   "metadata": {},
   "outputs": [],
   "source": []
  },
  {
   "cell_type": "code",
   "execution_count": null,
   "id": "27a30dac",
   "metadata": {},
   "outputs": [],
   "source": [
    "[\"202408040402\"] * len(\"202408040402\")"
   ]
  },
  {
   "cell_type": "code",
   "execution_count": null,
   "id": "3e16607e",
   "metadata": {},
   "outputs": [],
   "source": []
  },
  {
   "cell_type": "code",
   "execution_count": 29,
   "id": "8b9dd228",
   "metadata": {},
   "outputs": [
    {
     "name": "stderr",
     "output_type": "stream",
     "text": [
      "100%|███████████████████████████████████| 15546/15546 [6:23:03<00:00,  1.48s/it]\n"
     ]
    }
   ],
   "source": [
    "from tqdm import tqdm\n",
    "import time\n",
    "import re\n",
    "import requests\n",
    "import pandas as pd\n",
    "from bs4 import BeautifulSoup\n",
    "from datetime import datetime\n",
    "\n",
    "# このdfは、engineering後のデータフレームだよ。順番前後しちゃってるよ。ごめんね。\n",
    "df = pd.read_pickle('../DATA/recent_5_race_df_for_learning.pkl')\n",
    "# 既存のdfに日付データを追加するよ〜\n",
    "date_data = {}\n",
    "for race_id, each_df in tqdm(df.groupby(df.index)):\n",
    "    url = \"https://db.netkeiba.com/race/\" + race_id + \"/\"\n",
    "    response = requests.get(url)\n",
    "    response.encoding = 'EUC-JP'\n",
    "    html = response.text\n",
    "    soup = BeautifulSoup(html, 'html.parser')\n",
    "    content = soup.select('p.smalltxt')[0].text\n",
    "    pattern = '\\d+年\\d+月\\d+日'\n",
    "    str_date = re.search(pattern, content).group()\n",
    "    race_date = dt.strptime(str_date, '%Y年%m月%d日')\n",
    "    date_data[race_id] = pd.DataFrame(([race_date] * len(each_df)), index=([race_id] * len(each_df)))\n",
    "    \n",
    "    time.sleep(1)\n",
    "\n",
    "date_df = pd.concat([date_data[key] for key in date_data])\n",
    "df_with_date = pd.concat([df, date_df], axis=1)\n",
    "df_with_date = df_with_date.rename(columns={0: '開催年月日'})\n",
    "df_with_date.to_pickle('../DATA/df_for_learning_with_date.pkl')\n",
    "# date_data_df = pd.DataFrame(date_data)\n",
    "# df['開催年月日'] = date_data_df\n",
    "# print(df['開催年月日'])"
   ]
  },
  {
   "cell_type": "code",
   "execution_count": 32,
   "id": "d744da93",
   "metadata": {},
   "outputs": [
    {
     "name": "stdout",
     "output_type": "stream",
     "text": [
      "おばか\n"
     ]
    }
   ],
   "source": [
    "import pandas as pd\n",
    "\n",
    "df = pd.read_pickle('../DATA/df_for_learning_with_date.pkl')\n",
    "if df['開催年月日'][3] < df['開催年月日'] [597]:\n",
    "    print('おばか')\n",
    "else:\n",
    "    print('痴れ者')"
   ]
  },
  {
   "cell_type": "code",
   "execution_count": null,
   "id": "ef257807",
   "metadata": {},
   "outputs": [],
   "source": []
  }
 ],
 "metadata": {
  "kernelspec": {
   "display_name": "Python 3 (ipykernel)",
   "language": "python",
   "name": "python3"
  },
  "language_info": {
   "codemirror_mode": {
    "name": "ipython",
    "version": 3
   },
   "file_extension": ".py",
   "mimetype": "text/x-python",
   "name": "python",
   "nbconvert_exporter": "python",
   "pygments_lexer": "ipython3",
   "version": "3.9.12"
  },
  "vscode": {
   "interpreter": {
    "hash": "8ea02be749820b6e9834dacc98cdba2a78d68624d8dbb276cbdaece6e40651d6"
   }
  }
 },
 "nbformat": 4,
 "nbformat_minor": 5
}
