{
 "cells": [
  {
   "cell_type": "code",
   "execution_count": 17,
   "id": "9247338a",
   "metadata": {},
   "outputs": [
    {
     "name": "stderr",
     "output_type": "stream",
     "text": [
      "100%|██████████████████████████████████| 17634/17634 [12:48:42<00:00,  2.62s/it]\n"
     ]
    }
   ],
   "source": [
    "from tqdm import tqdm\n",
    "import time\n",
    "import requests\n",
    "import pandas as pd\n",
    "import random\n",
    "\n",
    "class HorseResult:\n",
    "    '''\n",
    "    馬の戦績をスクレイピングするよ。\n",
    "    \n",
    "    Input:\n",
    "        馬idのリスト\n",
    "        horse_id_list: list\n",
    "    \n",
    "    Output:\n",
    "        馬の戦績のデータフレーム\n",
    "        horse_results_df: pd.DataFrame\n",
    "    '''\n",
    "    @staticmethod\n",
    "    def scrape(horse_id_list):\n",
    "        horse_results = {}\n",
    "        for horse_id in tqdm(horse_id_list):\n",
    "            url = 'https://db.netkeiba.com/horse/' + str(horse_id) + '/'\n",
    "            try:\n",
    "                response = requests.get(url)\n",
    "                response.encoding = 'EUC-JP'\n",
    "                html = response.text\n",
    "                \n",
    "                df = pd.read_html(html)[3]\n",
    "                if df.columns[0] == '受賞歴':\n",
    "                    df = pd.read_html(html)[4]\n",
    "                df.index = [horse_id] * len(df)\n",
    "                horse_results[horse_id] = df\n",
    "                \n",
    "                time.sleep(random.uniform(1, 3))\n",
    "\n",
    "            except IndexError:\n",
    "                continue\n",
    "            except Exception as e:\n",
    "                print(e)\n",
    "                break\n",
    "            except:\n",
    "                break\n",
    "            \n",
    "        horse_results_df = pd.concat([horse_results[key] for key in horse_results])\n",
    "        return horse_results_df\n",
    "                \n",
    "race_results = {}\n",
    "for year in range(2020, 2025, 1):\n",
    "    race_results[str(year)] = pd.read_pickle(f'../DATA/{year}_race_result.pkl')\n",
    "race_results_df = pd.concat([race_results[key] for key in race_results])\n",
    "\n",
    "horse_id_list = race_results_df['馬id'].unique().tolist()\n",
    "horse_id_list_1 = horse_id_list[10116:]\n",
    "horse_results = HorseResult.scrape(horse_id_list_1)\n",
    "horse_results.to_pickle(f'../DATA/horse_result_1.pkl')\n"
   ]
  },
  {
   "cell_type": "code",
   "execution_count": 2,
   "id": "3382a0da",
   "metadata": {},
   "outputs": [
    {
     "name": "stdout",
     "output_type": "stream",
     "text": [
      "2020/race_result.pkl\n",
      "2021/race_result.pkl\n",
      "2022/race_result.pkl\n",
      "2023/race_result.pkl\n",
      "2024/race_result.pkl\n"
     ]
    }
   ],
   "source": [
    "for year in range(2020, 2025, 1):\n",
    "    print(f'{str(year)}/race_result.pkl')"
   ]
  },
  {
   "cell_type": "code",
   "execution_count": 5,
   "id": "c2b877eb",
   "metadata": {},
   "outputs": [],
   "source": [
    "import pandas as pd\n",
    "\n",
    "df0 = pd.read_pickle('../DATA/horse_result_0.pkl')\n",
    "df1 = pd.read_pickle('../DATA/horse_result_1.pkl')\n",
    "df = pd.concat([df0, df1])\n",
    "df.to_pickle('../DATA/horse_result_of_5_years.pkl')"
   ]
  },
  {
   "cell_type": "code",
   "execution_count": 30,
   "id": "1d9ff8b7",
   "metadata": {},
   "outputs": [],
   "source": [
    "import pandas as pd\n",
    "from datetime import datetime as dt\n",
    "from dateutil.relativedelta import relativedelta\n",
    "\n",
    "df = pd.read_pickle('../DATA/horse_result_of_5_years.pkl')\n",
    "race_df = pd.read_pickle('../DATA/race_results_of_5_years.pkl')\n",
    "df['日付'] = df['日付'].apply(lambda x: dt.strptime(x, '%Y/%m/%d'))\n",
    "df = df.loc[df['日付'] >= (dt.today() + relativedelta(months=-6))]\n",
    "\n",
    "# 平均順位より、上位何％とかを集計した方がいいかも？要検討\n",
    "def get_order_ave_of_horse_data(each_df, date):\n",
    "    rows = []\n",
    "    for _, row in each_df.loc[each_df['日付'] <= date].iterrows():\n",
    "        try:\n",
    "            rows.append(int(row['着順']) / int(row['頭数']))\n",
    "        except ValueError:\n",
    "            continue\n",
    "    try:\n",
    "        order_ave = sum(rows) / len(rows)\n",
    "    except ZeroDivisionError:\n",
    "        order_ave = 0\n",
    "    \n",
    "    return order_ave\n",
    "\n",
    "new_dfs = []\n",
    "for horse_id, each_df in df.groupby(df.index):\n",
    "    each_dates = each_df['日付'].tolist()\n",
    "    order_ave_dict = {}\n",
    "    for date in each_dates:\n",
    "        str_date = str(date)\n",
    "        order_ave = get_order_ave_of_horse_data(each_df, date)\n",
    "        order_ave_dict[str_date] = order_ave\n",
    "    data = {\n",
    "        'horse_id': horse_id,\n",
    "        'order_ave': [order_ave_dict]\n",
    "    }\n",
    "    new_df = pd.DataFrame(data)\n",
    "    new_df.index = [horse_id]\n",
    "    new_dfs.append(new_df)\n",
    "\n",
    "horse_df_for_db = pd.concat(new_dfs)\n",
    "horse_df_for_db.to_pickle('../DATA/horse_df_for_db_20240801_kai.pkl')"
   ]
  },
  {
   "cell_type": "code",
   "execution_count": 5,
   "id": "03b392c0",
   "metadata": {},
   "outputs": [
    {
     "name": "stdout",
     "output_type": "stream",
     "text": [
      "                    日付    開催 天気     R          レース名  映像    頭数   枠番  馬番    オッズ  \\\n",
      "2018101626  2024/01/27  2京都1  曇  10.0  許波多特別(2勝クラス) NaN   9.0  7.0   7   79.4   \n",
      "2018101626  2024/01/14  1中山5  晴   7.0     4歳以上2勝クラス NaN  15.0  3.0   5  228.7   \n",
      "2018101626  2023/12/10  5中山4  晴   9.0  チバテレ杯(2勝クラス) NaN  13.0  8.0  12   84.2   \n",
      "2018101626  2023/11/18  5東京5  晴   9.0   南武特別(2勝クラス) NaN  12.0  5.0   6   80.3   \n",
      "2018101626  2023/11/04  5東京1  晴  12.0     3歳以上2勝クラス NaN  10.0  6.0   6   11.0   \n",
      "...                ...   ... ..   ...           ...  ..   ...  ...  ..    ...   \n",
      "2021106204  2024/06/01    佐賀  晴  11.0    SAGAリベンジャー NaN  11.0  3.0   3   13.3   \n",
      "2021106204  2024/05/18    佐賀  晴  11.0    SAGAリベンジャー NaN  11.0  8.0  10   51.2   \n",
      "2021106204  2024/05/04    佐賀  曇  11.0    SAGAリベンジャー NaN  12.0  7.0  10   39.8   \n",
      "2021106204  2024/04/20    佐賀  雨  11.0    SAGAリベンジャー NaN  12.0  8.0  12   74.5   \n",
      "2021106204  2024/03/02  2小倉7  曇   1.0         3歳未勝利 NaN  16.0  5.0  10  208.1   \n",
      "\n",
      "            ...   着差 ﾀｲﾑ指数           通過        ペース    上り      馬体重 厩舎ｺﾒﾝﾄ  備考  \\\n",
      "2018101626  ...  0.9    **      2-2-2-2  38.6-33.7  34.5  482(-6)    NaN NaN   \n",
      "2018101626  ...  1.5    **      3-4-4-6  35.5-35.8  36.9  488(-2)    NaN NaN   \n",
      "2018101626  ...  1.4    **      5-5-2-3  34.8-35.8  37.1  490(+4)    NaN NaN   \n",
      "2018101626  ...  1.0    **      2-2-2-2  37.4-35.6  36.6  486(+2)    NaN NaN   \n",
      "2018101626  ...  0.4    **        1-1-1  37.8-33.7  34.1  484(+8)    NaN NaN   \n",
      "...         ...  ...   ...          ...        ...   ...      ...    ...  ..   \n",
      "2021106204  ...  2.2    **          5-4   0.0-37.4  38.6  404(-7)    NaN NaN   \n",
      "2021106204  ...  1.7    **          8-8   0.0-37.6  38.4   411(0)    NaN NaN   \n",
      "2021106204  ...  3.2    **  12-12-12-12   0.0-40.7  41.4  411(-6)    NaN NaN   \n",
      "2021106204  ...  4.8    **     7-7-8-10   0.0-38.6  42.0  417(+1)    NaN NaN   \n",
      "2021106204  ...  7.6    **  16-16-16-16  37.1-36.1  40.7   416(0)    NaN NaN   \n",
      "\n",
      "             勝ち馬(2着馬)   賞金  \n",
      "2018101626  ジューンアヲニヨシ  NaN  \n",
      "2018101626   コスモフリーゲン  NaN  \n",
      "2018101626    ルージュアルル  NaN  \n",
      "2018101626     ファンタジア  NaN  \n",
      "2018101626  マイネルケレリウス  NaN  \n",
      "...               ...  ...  \n",
      "2021106204   テイエムドルオー  NaN  \n",
      "2021106204  ラファガフレイバー  3.4  \n",
      "2021106204   ショードミュール  NaN  \n",
      "2021106204    ラインフォルテ  NaN  \n",
      "2021106204    クインズスピカ  NaN  \n",
      "\n",
      "[531649 rows x 28 columns]\n"
     ]
    }
   ],
   "source": [
    "import pandas as pd\n",
    "\n",
    "df = pd.read_pickle('../DATA/horse_result_of_5_years.pkl')\n",
    "\n",
    "print(df)"
   ]
  },
  {
   "cell_type": "code",
   "execution_count": 56,
   "id": "09e2088c",
   "metadata": {},
   "outputs": [
    {
     "name": "stderr",
     "output_type": "stream",
     "text": [
      "100%|█████████████████████████████████████| 27750/27750 [05:12<00:00, 88.69it/s]\n"
     ]
    }
   ],
   "source": [
    "import pandas as pd\n",
    "from datetime import datetime as dt\n",
    "from dateutil.relativedelta import relativedelta\n",
    "from tqdm import tqdm\n",
    "\n",
    "df = pd.read_pickle('../DATA/horse_result_of_5_years.pkl')\n",
    "race_df = pd.read_pickle('../DATA/race_results_of_5_years.pkl')\n",
    "df['日付'] = df['日付'].apply(lambda x: dt.strptime(x, '%Y/%m/%d'))\n",
    "\n",
    "# 平均順位より、上位何％とかを集計した方がいいかも？要検討\n",
    "def get_order_ave_of_horse_data(each_df, date):\n",
    "    rows = []\n",
    "    for _, row in each_df.loc[each_df['日付'] <= date].iterrows():\n",
    "        try:\n",
    "            rows.append(int(row['着順']) / int(row['頭数']))\n",
    "        except ValueError:\n",
    "            continue\n",
    "    try:\n",
    "        order_ave = sum(rows) / len(rows)\n",
    "    except ZeroDivisionError:\n",
    "        order_ave = 0\n",
    "    \n",
    "    return order_ave\n",
    "\n",
    "new_dfs = []\n",
    "for horse_id, each_df in tqdm(df.groupby(df.index)):\n",
    "    each_dates = each_df['日付'].tolist()\n",
    "    order_ave_dict = {}\n",
    "    for date in each_dates:\n",
    "        str_date = str(date)\n",
    "        order_ave = get_order_ave_of_horse_data(each_df, date)\n",
    "        order_ave_dict[str_date] = order_ave\n",
    "    data = {\n",
    "        'horse_id': horse_id,\n",
    "        'order_ave': [order_ave_dict]\n",
    "    }\n",
    "    new_df = pd.DataFrame(data)\n",
    "    new_df.index = [horse_id]\n",
    "    new_dfs.append(new_df)\n",
    "\n",
    "horse_df_for_db = pd.concat(new_dfs)\n",
    "horse_df_for_db.to_pickle('../DATA/horse_result_of_5_years_with_order_ave.pkl')"
   ]
  },
  {
   "cell_type": "code",
   "execution_count": 4,
   "id": "8ae1fd6a",
   "metadata": {},
   "outputs": [
    {
     "name": "stderr",
     "output_type": "stream",
     "text": [
      "  0%|                                                 | 0/15546 [00:00<?, ?it/s]/var/folders/8g/bbr34hd53gj8pszhqp_frb540000gn/T/ipykernel_29317/3715368592.py:12: FutureWarning: Series.__getitem__ treating keys as positions is deprecated. In a future version, integer keys will always be treated as labels (consistent with DataFrame behavior). To access a value by position, use `ser.iloc[pos]`\n",
      "  race_date = each_df['開催年月日'][0]\n",
      "100%|████████████████████████████████████| 15546/15546 [00:37<00:00, 410.77it/s]\n"
     ]
    },
    {
     "name": "stdout",
     "output_type": "stream",
     "text": [
      "202001010101    1.000000\n",
      "202001010101    0.333333\n",
      "202001010101    0.285714\n",
      "202001010101    0.714286\n",
      "202001010101    0.857143\n",
      "                  ...   \n",
      "202410020812    0.364903\n",
      "202410020812    0.445835\n",
      "202410020812    0.521743\n",
      "202410020812    0.468210\n",
      "202410020812    0.549447\n",
      "Name: 馬直近成績, Length: 213090, dtype: float64\n"
     ]
    }
   ],
   "source": [
    "import pandas as pd\n",
    "from datetime import datetime as dt\n",
    "from datetime import date as d\n",
    "from dateutil.relativedelta import relativedelta\n",
    "from tqdm import tqdm\n",
    "\n",
    "horse_df = pd.read_pickle('../DATA/horse_result_of_5_years_with_order_ave.pkl')\n",
    "race_df = pd.read_pickle('../DATA/df_for_learning_with_date.pkl')\n",
    "recent_scores = []\n",
    "for race_id, each_df in tqdm(race_df.groupby(race_df.index)):\n",
    "    horse_ids = each_df['馬id'].tolist()\n",
    "    race_date = each_df['開催年月日'][0]\n",
    "    for horse_id in horse_ids:\n",
    "        horse_data = horse_df[horse_df.index == horse_id]\n",
    "        for _, orders in horse_data['order_ave'].items():\n",
    "            recent_date = max((key for key in orders if dt.strptime(key, '%Y-%m-%d %H:%M:%S') < race_date), default=None)\n",
    "            if recent_date:\n",
    "                recent_order_ave = orders[recent_date]\n",
    "            else:\n",
    "                recent_order_ave = None\n",
    "            recent_scores.append(recent_order_ave)\n",
    "race_df['馬直近成績'] = recent_scores\n",
    "# race_df.to_pickle('../DATA/df_for_learning_kai.pkl')\n",
    "print(race_df['馬直近成績'])"
   ]
  },
  {
   "cell_type": "code",
   "execution_count": 21,
   "id": "62f9bff8",
   "metadata": {},
   "outputs": [],
   "source": [
    "import pandas as pd\n",
    "from datetime import datetime as dt\n",
    "from datetime import date as d\n",
    "from dateutil.relativedelta import relativedelta\n",
    "from tqdm import tqdm\n",
    "\n",
    "race_df = pd.read_pickle('../DATA/df_for_learning_kai.pkl')\n",
    "col = ['着順', '開催年月日', '馬直近成績']\n",
    "right_dfs = []\n",
    "for race_id, each_df in race_df.groupby(race_df.index):\n",
    "    if not each_df['馬直近成績'].isnull().any():\n",
    "        right_dfs.append(each_df)\n",
    "\n",
    "new_df = pd.concat(right_dfs)\n",
    "new_df.to_pickle('../DATA/df_for_learning_without_none.pkl')"
   ]
  },
  {
   "cell_type": "code",
   "execution_count": 24,
   "id": "e6c315f1",
   "metadata": {},
   "outputs": [
    {
     "name": "stdout",
     "output_type": "stream",
     "text": [
      "よくないね\n",
      "[True, True, True]\n"
     ]
    }
   ],
   "source": [
    "some_dict = {'6': 280, '15': 780, '3': 110}\n",
    "str_data = 6\n",
    "\n",
    "if str_data in some_dict.keys():\n",
    "    print('いいね')\n",
    "else:\n",
    "    print('よくないね')\n",
    "data = [True] * len(some_dict)\n",
    "print(data)"
   ]
  },
  {
   "cell_type": "code",
   "execution_count": 32,
   "id": "a3e6d19c",
   "metadata": {},
   "outputs": [
    {
     "name": "stdout",
     "output_type": "stream",
     "text": [
      "            日付     開催  天気   R         レース名  映像  頭数  枠番  馬番    オッズ  ...   着差  \\\n",
      "0   2024/11/16   3福島5   曇  10  西郷特別(2勝クラス) NaN  15   5   9   24.9  ...  2.7   \n",
      "1   2024/08/11   2札幌2   晴   9  桑園特別(2勝クラス) NaN  12   8  12   32.9  ...  0.5   \n",
      "2   2024/07/13   3小倉5   曇   9  雲仙特別(2勝クラス) NaN  14   8  13   36.5  ...  0.6   \n",
      "3   2024/03/10   1阪神6   晴  12    4歳以上2勝クラス NaN  13   5   7  211.8  ...  1.9   \n",
      "4   2024/02/03   1小倉7  小雨  10  有田特別(2勝クラス) NaN  14   7  12   27.4  ...  1.7   \n",
      "5   2023/11/19   3京都6   晴   8    3歳以上2勝クラス NaN  15   7  13   35.2  ...  2.3   \n",
      "6   2023/08/19   3小倉3   晴   9  雲仙特別(2勝クラス) NaN  14   5   8   37.4  ...  1.3   \n",
      "7   2023/03/12  1阪神10   晴  12    4歳以上2勝クラス NaN  16   4   7   55.2  ...  2.0   \n",
      "8   2023/02/04   1小倉7   晴  10  有田特別(2勝クラス) NaN  14   4   6   14.2  ...  1.0   \n",
      "9   2022/10/23   4新潟4   曇  10  妙高特別(2勝クラス) NaN  15   2   2    5.7  ...  4.9   \n",
      "10  2022/07/10   3小倉4   晴   7    3歳以上1勝クラス NaN  11   1   1    4.0  ... -0.2   \n",
      "11  2022/03/21   2中京4   晴   3        3歳未勝利 NaN  16   1   2    6.0  ...  0.0   \n",
      "12  2022/02/12   2小倉1   晴   3        3歳未勝利 NaN  14   5   8    1.8  ...  0.0   \n",
      "13  2022/01/22   1小倉3   晴   3        3歳未勝利 NaN  14   7  11   21.3  ...  0.1   \n",
      "14  2021/09/26   5中京7   雨   4         2歳新馬 NaN  12   6   7   11.9  ...  3.3   \n",
      "\n",
      "    ﾀｲﾑ指数   通過        ペース    上り       馬体重 厩舎ｺﾒﾝﾄ  備考     勝ち馬(2着馬)     賞金  \n",
      "0     NaN  3-3  31.5-36.8  39.4   428(-8)    NaN NaN        グッジョブ    NaN  \n",
      "1      **  3-2  34.6-35.9  36.3    436(0)    NaN NaN     ガビーズシスター  393.7  \n",
      "2      **  4-4  33.4-35.1  35.3   436(+6)    NaN NaN     ハンベルジャイト  394.4  \n",
      "3      **  6-5  34.6-37.4  38.2   430(+8)    NaN NaN     カネコメシスター    NaN  \n",
      "4      **  5-6  33.2-35.3  36.4  422(-22)    NaN NaN    ユウグロスファクタ    NaN  \n",
      "5      **  2-2  34.9-37.3  39.5   444(+6)    NaN NaN         ミラクル    NaN  \n",
      "6      **  2-2  33.4-35.0  36.2  438(+20)    NaN NaN     ロックユアハート    NaN  \n",
      "7      **  2-3  34.8-37.8  39.6    418(0)    NaN NaN      アランチャータ    NaN  \n",
      "8      **  5-4  34.2-36.2  36.8   418(-6)    NaN NaN      ララシャンドン    NaN  \n",
      "9      **  1-2  34.8-38.0  42.9   424(+8)    NaN NaN       アイスリアン    NaN  \n",
      "10     **  1-1  34.7-35.7  35.7   416(+6)    NaN NaN  (メイショウヒヅクリ)  770.0  \n",
      "11     **  1-1  35.0-38.0  38.0   410(+2)    NaN NaN      (リンドラゴ)  520.0  \n",
      "12     **  3-2  34.3-37.3  36.9   408(-6)    NaN NaN          アカザ  210.0  \n",
      "13     **  2-2  34.9-36.6  36.5  414(-18)    NaN NaN         モモサン  210.0  \n",
      "14     **  6-7  35.2-36.0  38.1    432(0)    NaN NaN      ドライスタウト    NaN  \n",
      "\n",
      "[15 rows x 28 columns]\n"
     ]
    }
   ],
   "source": [
    "import pandas as pd\n",
    "import requests\n",
    "from bs4 import BeautifulSoup\n",
    "from io import StringIO\n",
    "\n",
    "horse_id = '2019103042'\n",
    "url = 'https://db.netkeiba.com/horse/' + horse_id + '/'\n",
    "header = {'User-Agent': 'Mozilla/5.0 (Windows NT 10.0; Win64; x64) AppleWebKit/537.36 (KHTML, like Gecko) Chrome/85.0.4183.102 Safari/537.36'}\n",
    "session = requests.Session()\n",
    "response = session.get(url, headers=header)\n",
    "response.encoding = 'EUC-JP'\n",
    "html = response.text\n",
    "soup = BeautifulSoup(html, 'html.parser')\n",
    "target_table = soup.find('table', attrs={'class': 'db_h_race_results'})\n",
    "str_table = str(target_table)\n",
    "df = pd.read_html(StringIO(str_table))[0]\n",
    "df = df.rename(columns=lambda x: x.replace(' ', ''))\n",
    "print(df)"
   ]
  },
  {
   "cell_type": "code",
   "execution_count": 44,
   "id": "95889cb4",
   "metadata": {},
   "outputs": [
    {
     "name": "stdout",
     "output_type": "stream",
     "text": [
      "<class 'int'>\n",
      "<class 'int'>\n",
      "<class 'int'>\n",
      "<class 'int'>\n"
     ]
    }
   ],
   "source": [
    "from datetime import datetime as dt\n",
    "\n",
    "list_a = ['20241103', '20241104', '20241105', '20241121']\n",
    "for element in list_a:\n",
    "    datetime = dt.strptime(element, '%Y%m%d').day"
   ]
  },
  {
   "cell_type": "code",
   "execution_count": 45,
   "id": "4f438ecb",
   "metadata": {},
   "outputs": [
    {
     "name": "stdout",
     "output_type": "stream",
     "text": [
      "\n"
     ]
    }
   ],
   "source": [
    "list1 = []\n",
    "string1 = ','.join(list1)\n",
    "print(string1)"
   ]
  },
  {
   "cell_type": "code",
   "execution_count": 48,
   "id": "da1feb27",
   "metadata": {},
   "outputs": [
    {
     "name": "stdout",
     "output_type": "stream",
     "text": [
      "Class\n"
     ]
    }
   ],
   "source": [
    "from datetime import datetime as dt\n",
    "from dateutil import relativedelta\n",
    "import re\n",
    "\n",
    "string = 'ClassTrigger'\n",
    "trigger = string.split('Trigger')[0]\n",
    "print(trigger)"
   ]
  },
  {
   "cell_type": "code",
   "execution_count": null,
   "id": "b1259811",
   "metadata": {},
   "outputs": [],
   "source": []
  }
 ],
 "metadata": {
  "kernelspec": {
   "display_name": "Python (venv)",
   "language": "python",
   "name": "venv"
  },
  "language_info": {
   "codemirror_mode": {
    "name": "ipython",
    "version": 3
   },
   "file_extension": ".py",
   "mimetype": "text/x-python",
   "name": "python",
   "nbconvert_exporter": "python",
   "pygments_lexer": "ipython3",
   "version": "3.10.6"
  }
 },
 "nbformat": 4,
 "nbformat_minor": 5
}
