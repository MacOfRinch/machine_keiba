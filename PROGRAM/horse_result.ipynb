{
 "cells": [
  {
   "cell_type": "code",
   "execution_count": 17,
   "id": "9247338a",
   "metadata": {},
   "outputs": [
    {
     "name": "stderr",
     "output_type": "stream",
     "text": [
      "100%|██████████████████████████████████| 17634/17634 [12:48:42<00:00,  2.62s/it]\n"
     ]
    }
   ],
   "source": [
    "from tqdm import tqdm\n",
    "import time\n",
    "import requests\n",
    "import pandas as pd\n",
    "import random\n",
    "\n",
    "class HorseResult:\n",
    "    '''\n",
    "    馬の戦績をスクレイピングするよ。\n",
    "    \n",
    "    Input:\n",
    "        馬idのリスト\n",
    "        horse_id_list: list\n",
    "    \n",
    "    Output:\n",
    "        馬の戦績のデータフレーム\n",
    "        horse_results_df: pd.DataFrame\n",
    "    '''\n",
    "    @staticmethod\n",
    "    def scrape(horse_id_list):\n",
    "        horse_results = {}\n",
    "        for horse_id in tqdm(horse_id_list):\n",
    "            url = 'https://db.netkeiba.com/horse/' + str(horse_id) + '/'\n",
    "            try:\n",
    "                response = requests.get(url)\n",
    "                response.encoding = 'EUC-JP'\n",
    "                html = response.text\n",
    "                \n",
    "                df = pd.read_html(html)[3]\n",
    "                if df.columns[0] == '受賞歴':\n",
    "                    df = pd.read_html(html)[4]\n",
    "                df.index = [horse_id] * len(df)\n",
    "                horse_results[horse_id] = df\n",
    "                \n",
    "                time.sleep(random.uniform(1, 3))\n",
    "\n",
    "            except IndexError:\n",
    "                continue\n",
    "            except Exception as e:\n",
    "                print(e)\n",
    "                break\n",
    "            except:\n",
    "                break\n",
    "            \n",
    "        horse_results_df = pd.concat([horse_results[key] for key in horse_results])\n",
    "        return horse_results_df\n",
    "                \n",
    "race_results = {}\n",
    "for year in range(2020, 2025, 1):\n",
    "    race_results[str(year)] = pd.read_pickle(f'../DATA/{year}_race_result.pkl')\n",
    "race_results_df = pd.concat([race_results[key] for key in race_results])\n",
    "\n",
    "horse_id_list = race_results_df['馬id'].unique().tolist()\n",
    "horse_id_list_1 = horse_id_list[10116:]\n",
    "horse_results = HorseResult.scrape(horse_id_list_1)\n",
    "horse_results.to_pickle(f'../DATA/horse_result_1.pkl')\n"
   ]
  },
  {
   "cell_type": "code",
   "execution_count": 2,
   "id": "3382a0da",
   "metadata": {},
   "outputs": [
    {
     "name": "stdout",
     "output_type": "stream",
     "text": [
      "2020/race_result.pkl\n",
      "2021/race_result.pkl\n",
      "2022/race_result.pkl\n",
      "2023/race_result.pkl\n",
      "2024/race_result.pkl\n"
     ]
    }
   ],
   "source": [
    "for year in range(2020, 2025, 1):\n",
    "    print(f'{str(year)}/race_result.pkl')"
   ]
  },
  {
   "cell_type": "code",
   "execution_count": 5,
   "id": "c2b877eb",
   "metadata": {},
   "outputs": [],
   "source": [
    "import pandas as pd\n",
    "\n",
    "df0 = pd.read_pickle('../DATA/horse_result_0.pkl')\n",
    "df1 = pd.read_pickle('../DATA/horse_result_1.pkl')\n",
    "df = pd.concat([df0, df1])\n",
    "df.to_pickle('../DATA/horse_result_of_5_years.pkl')"
   ]
  },
  {
   "cell_type": "code",
   "execution_count": 4,
   "id": "1d9ff8b7",
   "metadata": {},
   "outputs": [],
   "source": [
    "import pandas as pd\n",
    "from datetime import datetime as dt\n",
    "from dateutil.relativedelta import relativedelta\n",
    "\n",
    "df = pd.read_pickle('../DATA/horse_result_of_5_years.pkl')\n",
    "df['日付'] = df['日付'].apply(lambda x: dt.strptime(x, '%Y/%m/%d'))\n",
    "df = df.loc[df['日付'] >= (dt.today() + relativedelta(months=-6))]\n",
    "\n",
    "# 平均順位より、上位何％とかを集計した方がいいかも？要検討\n",
    "def get_order_ave_of_horse_data(each_df):\n",
    "    rows = []\n",
    "    for _, row in each_df.iterrows():\n",
    "        try:\n",
    "            rows.append(int(row['着順']))\n",
    "        except ValueError:\n",
    "            continue\n",
    "    try:\n",
    "        order_ave = sum(rows) / len(rows)\n",
    "    except ZeroDivisionError:\n",
    "        order_ave = 0\n",
    "    \n",
    "    return [order_ave] * len(each_df)\n",
    "order_ave_dict = {}\n",
    "for horse_id, each_df in df.groupby(df.index):\n",
    "    each_df['order_ave'] = get_order_ave_of_horse_data(each_df)\n",
    "    order_ave_dict[horse_id] = each_df\n",
    "new_df = pd.concat([order_ave_dict[key] for key in order_ave_dict])\n",
    "new_df['horse_id'] = new_df.index\n",
    "col = ['horse_id', 'order_ave']\n",
    "horse_df_for_db = new_df[col]\n",
    "horse_df_for_db.to_pickle('../DATA/horse_df_for_db_20240801.pkl')"
   ]
  },
  {
   "cell_type": "code",
   "execution_count": null,
   "id": "03b392c0",
   "metadata": {},
   "outputs": [],
   "source": []
  }
 ],
 "metadata": {
  "kernelspec": {
   "display_name": "Python 3 (ipykernel)",
   "language": "python",
   "name": "python3"
  },
  "language_info": {
   "codemirror_mode": {
    "name": "ipython",
    "version": 3
   },
   "file_extension": ".py",
   "mimetype": "text/x-python",
   "name": "python",
   "nbconvert_exporter": "python",
   "pygments_lexer": "ipython3",
   "version": "3.9.12"
  }
 },
 "nbformat": 4,
 "nbformat_minor": 5
}
